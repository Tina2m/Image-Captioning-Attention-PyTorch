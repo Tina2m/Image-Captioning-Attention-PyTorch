{
 "cells": [
  {
   "cell_type": "code",
   "execution_count": null,
   "metadata": {},
   "outputs": [],
   "source": [
    "import pandas as pd\n",
    "from sklearn.model_selection import train_test_split"
   ]
  },
  {
   "cell_type": "code",
   "execution_count": null,
   "metadata": {},
   "outputs": [],
   "source": [
    "from google.colab import drive\n",
    "drive.mount('/content/drive')"
   ]
  },
  {
   "cell_type": "code",
   "execution_count": null,
   "metadata": {},
   "outputs": [],
   "source": [
    "# %%capture\n",
    "%%shell\n",
    "# Ensure the Kaggle API directory exists\n",
    "mkdir -p ~/.kaggle\n",
    "\n",
    "# Copy the Kaggle API key to the correct location\n",
    "# Note: You need to upload your kaggle.json file to '/content/drive/My Drive/kaggle.json' beforehand\n",
    "cp '/content/drive/My Drive/kaggle.json' ~/.kaggle/\n",
    "\n",
    "# Make the Kaggle API key file readable for the owner only (required for Kaggle API)\n",
    "chmod 600 ~/.kaggle/kaggle.json\n",
    "\n",
    "# Create a directory for the dataset if it doesn't already exist\n",
    "mkdir -p /content/data\n",
    "\n",
    "# Use Kaggle API to download the dataset to the specified directory\n",
    "kaggle datasets download -d hsankesara/flickr-image-dataset -p /content/data\n",
    "\n",
    "# Unzip the downloaded dataset\n",
    "unzip -q \"/content/data/flickr-image-dataset.zip\" -d /content/data\n",
    "\n",
    "# Remove the zip file to save space\n",
    "rm \"/content/data/flickr-image-dataset.zip\"\n"
   ]
  },
  {
   "cell_type": "code",
   "execution_count": null,
   "metadata": {},
   "outputs": [],
   "source": [
    "# Load the CSV file (assuming the uploaded image represents a CSV format)\n",
    "# Make sure to set the correct path to your CSV file\n",
    "df = pd.read_csv('/content/data/flickr30k_images/results.csv', delimiter='|', header=None)\n",
    "\n",
    "# Remove whitespace from the DataFrame\n",
    "df = df.apply(lambda x: x.str.strip() if x.dtype == \"object\" else x)\n",
    "\n",
    "# Open a new text file to write the formatted data\n",
    "with open('/content/data/flickr30k_images/Flickr30k.token.txt ', 'w') as f:\n",
    "    for index, row in df.iterrows():\n",
    "        # Extract the filename, index, and caption, and strip any leading/trailing whitespace\n",
    "        filename = row[0].strip()\n",
    "        # print(filename)\n",
    "        caption_number = row[1].strip()\n",
    "        # print(caption_number)\n",
    "        caption = str(row[2]).strip()\n",
    "        # print(caption)\n",
    "\n",
    "        # Write the formatted line to the text file\n",
    "        f.write(f'{filename}#{caption_number}\\t{caption}\\n')\n"
   ]
  },
  {
   "cell_type": "code",
   "execution_count": null,
   "metadata": {},
   "outputs": [],
   "source": [
    "# Get the unique filenames\n",
    "unique_filenames = df[0].unique()\n",
    "\n",
    "# First split: 80% for training, 20% for temporary dataset (which will become test and dev)\n",
    "train_filenames, temp_filenames = train_test_split(unique_filenames, test_size=0.2, random_state=42)\n",
    "\n",
    "# Second split of the temporary dataset: 50% for test, 50% for dev (which is 10% of the original each)\n",
    "test_filenames, dev_filenames = train_test_split(temp_filenames, test_size=0.5, random_state=42)\n",
    "\n",
    "# Write the filenames to their respective files\n",
    "def write_filenames_to_file(filenames, file_path):\n",
    "    with open(file_path, 'w') as f:\n",
    "        for filename in filenames:\n",
    "            f.write(filename + '\\n')\n",
    "\n",
    "write_filenames_to_file(train_filenames, '/content/data/flickr30k_images/Flickr_30k.trainImages.txt')\n",
    "write_filenames_to_file(test_filenames, '/content/data/flickr30k_images/Flickr_30k.testImages.txt')\n",
    "write_filenames_to_file(dev_filenames, '/content/data/flickr30k_images/Flickr_30k.devImages.txt')\n"
   ]
  }
 ],
 "metadata": {
  "kernelspec": {
   "display_name": "Python 3",
   "language": "python",
   "name": "python3"
  },
  "language_info": {
   "name": "python",
   "version": "3.11.4"
  }
 },
 "nbformat": 4,
 "nbformat_minor": 2
}
